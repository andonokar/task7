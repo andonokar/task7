{
 "cells": [
  {
   "cell_type": "code",
   "id": "initial_id",
   "metadata": {
    "collapsed": true,
    "ExecuteTime": {
     "end_time": "2024-06-21T19:05:00.023568Z",
     "start_time": "2024-06-21T19:04:59.404221Z"
    }
   },
   "source": [
    "# Imports\n",
    "import pandas as pd\n",
    "import seaborn as sns\n",
    "import matplotlib.pyplot as plt\n",
    "from sklearn.model_selection import train_test_split\n",
    "from sklearn.preprocessing import StandardScaler\n",
    "from sklearn.linear_model import LogisticRegression\n",
    "from sklearn.ensemble import RandomForestClassifier, GradientBoostingClassifier\n",
    "from sklearn.svm import SVC\n",
    "from sklearn.neighbors import KNeighborsClassifier\n",
    "from sklearn.metrics import accuracy_score"
   ],
   "outputs": [],
   "execution_count": 23
  },
  {
   "metadata": {},
   "cell_type": "markdown",
   "source": [
    "# Task 7\n",
    "The purpose of task 7 is to analyze the dataset from [Real Time Bidding from kaggle](https://www.kaggle.com/datasets/zurfer/rtb) where the challenge is to predict if an advertiser should bid for a marketing slot e.g. a banner on a webpage"
   ],
   "id": "59efd3a0931700d9"
  },
  {
   "metadata": {},
   "cell_type": "markdown",
   "source": [
    "## Part1 - Looking at the Data\n",
    "Let's look at the data to see what kind of data we have, the data type and structure"
   ],
   "id": "1927ea1fc5ac7311"
  },
  {
   "metadata": {
    "ExecuteTime": {
     "end_time": "2024-06-20T17:10:21.119268Z",
     "start_time": "2024-06-20T17:10:17.612573Z"
    }
   },
   "cell_type": "code",
   "source": "data_df = pd.read_csv('biddings.csv')",
   "id": "4f7ca0d2a8f97026",
   "outputs": [],
   "execution_count": 3
  },
  {
   "metadata": {
    "ExecuteTime": {
     "end_time": "2024-06-20T17:10:40.668624Z",
     "start_time": "2024-06-20T17:10:40.645949Z"
    }
   },
   "cell_type": "code",
   "source": "data_df.head()",
   "id": "77e345bc84a79253",
   "outputs": [
    {
     "data": {
      "text/plain": [
       "      0     1     2     3     4     5     6     7     8     9  ...    79  \\\n",
       "0 -0.01 -0.43  2.22 -0.59  0.80  0.21 -0.19  0.30 -0.25  0.42  ... -0.07   \n",
       "1  0.00 -4.11  1.48  0.92 -7.37  0.60  0.37  1.95  0.19  0.85  ... -0.57   \n",
       "2  0.01 -5.03 -2.78 -0.83  0.92  0.46  0.10  1.36 -0.74  1.62  ... -0.13   \n",
       "3 -0.02  1.98  2.30  0.87 -7.09  0.36  0.16  1.79  0.23  0.26  ...  0.07   \n",
       "4 -0.01  0.14 -2.43 -0.68  0.73 -1.47  0.68  1.93 -0.35  3.12  ... -0.04   \n",
       "\n",
       "     80    81    82    83    84    85    86    87  convert  \n",
       "0  0.30 -0.19  0.61 -0.04  0.36 -0.18 -0.24  0.07        0  \n",
       "1 -0.27  1.17 -0.52 -1.43 -0.24 -0.41  0.71 -0.22        0  \n",
       "2  0.33  0.38  0.41 -0.61  0.24 -0.10 -1.19  0.37        0  \n",
       "3  0.41 -0.81 -0.49  0.07 -0.20 -0.31 -0.55  0.18        0  \n",
       "4  0.03  0.07 -0.05 -0.02 -0.01  0.00 -0.20  0.07        0  \n",
       "\n",
       "[5 rows x 89 columns]"
      ],
      "text/html": [
       "<div>\n",
       "<style scoped>\n",
       "    .dataframe tbody tr th:only-of-type {\n",
       "        vertical-align: middle;\n",
       "    }\n",
       "\n",
       "    .dataframe tbody tr th {\n",
       "        vertical-align: top;\n",
       "    }\n",
       "\n",
       "    .dataframe thead th {\n",
       "        text-align: right;\n",
       "    }\n",
       "</style>\n",
       "<table border=\"1\" class=\"dataframe\">\n",
       "  <thead>\n",
       "    <tr style=\"text-align: right;\">\n",
       "      <th></th>\n",
       "      <th>0</th>\n",
       "      <th>1</th>\n",
       "      <th>2</th>\n",
       "      <th>3</th>\n",
       "      <th>4</th>\n",
       "      <th>5</th>\n",
       "      <th>6</th>\n",
       "      <th>7</th>\n",
       "      <th>8</th>\n",
       "      <th>9</th>\n",
       "      <th>...</th>\n",
       "      <th>79</th>\n",
       "      <th>80</th>\n",
       "      <th>81</th>\n",
       "      <th>82</th>\n",
       "      <th>83</th>\n",
       "      <th>84</th>\n",
       "      <th>85</th>\n",
       "      <th>86</th>\n",
       "      <th>87</th>\n",
       "      <th>convert</th>\n",
       "    </tr>\n",
       "  </thead>\n",
       "  <tbody>\n",
       "    <tr>\n",
       "      <th>0</th>\n",
       "      <td>-0.01</td>\n",
       "      <td>-0.43</td>\n",
       "      <td>2.22</td>\n",
       "      <td>-0.59</td>\n",
       "      <td>0.80</td>\n",
       "      <td>0.21</td>\n",
       "      <td>-0.19</td>\n",
       "      <td>0.30</td>\n",
       "      <td>-0.25</td>\n",
       "      <td>0.42</td>\n",
       "      <td>...</td>\n",
       "      <td>-0.07</td>\n",
       "      <td>0.30</td>\n",
       "      <td>-0.19</td>\n",
       "      <td>0.61</td>\n",
       "      <td>-0.04</td>\n",
       "      <td>0.36</td>\n",
       "      <td>-0.18</td>\n",
       "      <td>-0.24</td>\n",
       "      <td>0.07</td>\n",
       "      <td>0</td>\n",
       "    </tr>\n",
       "    <tr>\n",
       "      <th>1</th>\n",
       "      <td>0.00</td>\n",
       "      <td>-4.11</td>\n",
       "      <td>1.48</td>\n",
       "      <td>0.92</td>\n",
       "      <td>-7.37</td>\n",
       "      <td>0.60</td>\n",
       "      <td>0.37</td>\n",
       "      <td>1.95</td>\n",
       "      <td>0.19</td>\n",
       "      <td>0.85</td>\n",
       "      <td>...</td>\n",
       "      <td>-0.57</td>\n",
       "      <td>-0.27</td>\n",
       "      <td>1.17</td>\n",
       "      <td>-0.52</td>\n",
       "      <td>-1.43</td>\n",
       "      <td>-0.24</td>\n",
       "      <td>-0.41</td>\n",
       "      <td>0.71</td>\n",
       "      <td>-0.22</td>\n",
       "      <td>0</td>\n",
       "    </tr>\n",
       "    <tr>\n",
       "      <th>2</th>\n",
       "      <td>0.01</td>\n",
       "      <td>-5.03</td>\n",
       "      <td>-2.78</td>\n",
       "      <td>-0.83</td>\n",
       "      <td>0.92</td>\n",
       "      <td>0.46</td>\n",
       "      <td>0.10</td>\n",
       "      <td>1.36</td>\n",
       "      <td>-0.74</td>\n",
       "      <td>1.62</td>\n",
       "      <td>...</td>\n",
       "      <td>-0.13</td>\n",
       "      <td>0.33</td>\n",
       "      <td>0.38</td>\n",
       "      <td>0.41</td>\n",
       "      <td>-0.61</td>\n",
       "      <td>0.24</td>\n",
       "      <td>-0.10</td>\n",
       "      <td>-1.19</td>\n",
       "      <td>0.37</td>\n",
       "      <td>0</td>\n",
       "    </tr>\n",
       "    <tr>\n",
       "      <th>3</th>\n",
       "      <td>-0.02</td>\n",
       "      <td>1.98</td>\n",
       "      <td>2.30</td>\n",
       "      <td>0.87</td>\n",
       "      <td>-7.09</td>\n",
       "      <td>0.36</td>\n",
       "      <td>0.16</td>\n",
       "      <td>1.79</td>\n",
       "      <td>0.23</td>\n",
       "      <td>0.26</td>\n",
       "      <td>...</td>\n",
       "      <td>0.07</td>\n",
       "      <td>0.41</td>\n",
       "      <td>-0.81</td>\n",
       "      <td>-0.49</td>\n",
       "      <td>0.07</td>\n",
       "      <td>-0.20</td>\n",
       "      <td>-0.31</td>\n",
       "      <td>-0.55</td>\n",
       "      <td>0.18</td>\n",
       "      <td>0</td>\n",
       "    </tr>\n",
       "    <tr>\n",
       "      <th>4</th>\n",
       "      <td>-0.01</td>\n",
       "      <td>0.14</td>\n",
       "      <td>-2.43</td>\n",
       "      <td>-0.68</td>\n",
       "      <td>0.73</td>\n",
       "      <td>-1.47</td>\n",
       "      <td>0.68</td>\n",
       "      <td>1.93</td>\n",
       "      <td>-0.35</td>\n",
       "      <td>3.12</td>\n",
       "      <td>...</td>\n",
       "      <td>-0.04</td>\n",
       "      <td>0.03</td>\n",
       "      <td>0.07</td>\n",
       "      <td>-0.05</td>\n",
       "      <td>-0.02</td>\n",
       "      <td>-0.01</td>\n",
       "      <td>0.00</td>\n",
       "      <td>-0.20</td>\n",
       "      <td>0.07</td>\n",
       "      <td>0</td>\n",
       "    </tr>\n",
       "  </tbody>\n",
       "</table>\n",
       "<p>5 rows × 89 columns</p>\n",
       "</div>"
      ]
     },
     "execution_count": 4,
     "metadata": {},
     "output_type": "execute_result"
    }
   ],
   "execution_count": 4
  },
  {
   "metadata": {},
   "cell_type": "markdown",
   "source": "Here we can see that the dataframe has a bunch of parameterized values with numbers, which is a little bit hard to analyze them individually because they don't have a lot of meaning and a column called convert, which stands for 0 when not clicked and 1 to clicked",
   "id": "d189480897c41f7c"
  },
  {
   "metadata": {
    "ExecuteTime": {
     "end_time": "2024-06-20T17:32:13.887839Z",
     "start_time": "2024-06-20T17:32:13.756395Z"
    }
   },
   "cell_type": "code",
   "source": "data_df.info()",
   "id": "ef963e148a5bff2f",
   "outputs": [
    {
     "name": "stdout",
     "output_type": "stream",
     "text": [
      "<class 'pandas.core.frame.DataFrame'>\n",
      "RangeIndex: 1000000 entries, 0 to 999999\n",
      "Data columns (total 89 columns):\n",
      " #   Column   Non-Null Count    Dtype  \n",
      "---  ------   --------------    -----  \n",
      " 0   0        1000000 non-null  float64\n",
      " 1   1        1000000 non-null  float64\n",
      " 2   2        1000000 non-null  float64\n",
      " 3   3        1000000 non-null  float64\n",
      " 4   4        1000000 non-null  float64\n",
      " 5   5        1000000 non-null  float64\n",
      " 6   6        1000000 non-null  float64\n",
      " 7   7        1000000 non-null  float64\n",
      " 8   8        1000000 non-null  float64\n",
      " 9   9        1000000 non-null  float64\n",
      " 10  10       1000000 non-null  float64\n",
      " 11  11       1000000 non-null  float64\n",
      " 12  12       1000000 non-null  float64\n",
      " 13  13       1000000 non-null  float64\n",
      " 14  14       1000000 non-null  float64\n",
      " 15  15       1000000 non-null  float64\n",
      " 16  16       1000000 non-null  float64\n",
      " 17  17       1000000 non-null  float64\n",
      " 18  18       1000000 non-null  float64\n",
      " 19  19       1000000 non-null  float64\n",
      " 20  20       1000000 non-null  float64\n",
      " 21  21       1000000 non-null  float64\n",
      " 22  22       1000000 non-null  float64\n",
      " 23  23       1000000 non-null  float64\n",
      " 24  24       1000000 non-null  float64\n",
      " 25  25       1000000 non-null  float64\n",
      " 26  26       1000000 non-null  float64\n",
      " 27  27       1000000 non-null  float64\n",
      " 28  28       1000000 non-null  float64\n",
      " 29  29       1000000 non-null  float64\n",
      " 30  30       1000000 non-null  float64\n",
      " 31  31       1000000 non-null  float64\n",
      " 32  32       1000000 non-null  float64\n",
      " 33  33       1000000 non-null  float64\n",
      " 34  34       1000000 non-null  float64\n",
      " 35  35       1000000 non-null  float64\n",
      " 36  36       1000000 non-null  float64\n",
      " 37  37       1000000 non-null  float64\n",
      " 38  38       1000000 non-null  float64\n",
      " 39  39       1000000 non-null  float64\n",
      " 40  40       1000000 non-null  float64\n",
      " 41  41       1000000 non-null  float64\n",
      " 42  42       1000000 non-null  float64\n",
      " 43  43       1000000 non-null  float64\n",
      " 44  44       1000000 non-null  float64\n",
      " 45  45       1000000 non-null  float64\n",
      " 46  46       1000000 non-null  float64\n",
      " 47  47       1000000 non-null  float64\n",
      " 48  48       1000000 non-null  float64\n",
      " 49  49       1000000 non-null  float64\n",
      " 50  50       1000000 non-null  float64\n",
      " 51  51       1000000 non-null  float64\n",
      " 52  52       1000000 non-null  float64\n",
      " 53  53       1000000 non-null  float64\n",
      " 54  54       1000000 non-null  float64\n",
      " 55  55       1000000 non-null  float64\n",
      " 56  56       1000000 non-null  float64\n",
      " 57  57       1000000 non-null  float64\n",
      " 58  58       1000000 non-null  float64\n",
      " 59  59       1000000 non-null  float64\n",
      " 60  60       1000000 non-null  float64\n",
      " 61  61       1000000 non-null  float64\n",
      " 62  62       1000000 non-null  float64\n",
      " 63  63       1000000 non-null  float64\n",
      " 64  64       1000000 non-null  float64\n",
      " 65  65       1000000 non-null  float64\n",
      " 66  66       1000000 non-null  float64\n",
      " 67  67       1000000 non-null  float64\n",
      " 68  68       1000000 non-null  float64\n",
      " 69  69       1000000 non-null  float64\n",
      " 70  70       1000000 non-null  float64\n",
      " 71  71       1000000 non-null  float64\n",
      " 72  72       1000000 non-null  float64\n",
      " 73  73       1000000 non-null  float64\n",
      " 74  74       1000000 non-null  float64\n",
      " 75  75       1000000 non-null  float64\n",
      " 76  76       1000000 non-null  float64\n",
      " 77  77       1000000 non-null  float64\n",
      " 78  78       1000000 non-null  float64\n",
      " 79  79       1000000 non-null  float64\n",
      " 80  80       1000000 non-null  float64\n",
      " 81  81       1000000 non-null  float64\n",
      " 82  82       1000000 non-null  float64\n",
      " 83  83       1000000 non-null  float64\n",
      " 84  84       1000000 non-null  float64\n",
      " 85  85       1000000 non-null  float64\n",
      " 86  86       1000000 non-null  float64\n",
      " 87  87       1000000 non-null  float64\n",
      " 88  convert  1000000 non-null  int64  \n",
      "dtypes: float64(88), int64(1)\n",
      "memory usage: 679.0 MB\n"
     ]
    }
   ],
   "execution_count": 5
  },
  {
   "metadata": {},
   "cell_type": "markdown",
   "source": "From the info is it possible to see that no null values, so treating null values will not be necessary",
   "id": "4b10ca262d09d731"
  },
  {
   "metadata": {
    "ExecuteTime": {
     "end_time": "2024-06-20T17:53:42.761663Z",
     "start_time": "2024-06-20T17:53:42.750952Z"
    }
   },
   "cell_type": "code",
   "source": "data_df[\"convert\"].value_counts()",
   "id": "3e3b02f8d78156d0",
   "outputs": [
    {
     "data": {
      "text/plain": [
       "convert\n",
       "0    998092\n",
       "1      1908\n",
       "Name: count, dtype: int64"
      ]
     },
     "execution_count": 11,
     "metadata": {},
     "output_type": "execute_result"
    }
   ],
   "execution_count": 11
  },
  {
   "metadata": {},
   "cell_type": "markdown",
   "source": "Here we can see that we only have 0 and 1 for conversions, which will be the focus of prediction",
   "id": "bf46b3a0b858c701"
  },
  {
   "metadata": {},
   "cell_type": "markdown",
   "source": [
    "## EDA\n",
    "So for EDA, Since we can't analyze individual columns because they don't mean anything, we'll go for the correlations"
   ],
   "id": "40f7f06d84a3304f"
  },
  {
   "metadata": {
    "ExecuteTime": {
     "end_time": "2024-06-21T12:56:16.187314Z",
     "start_time": "2024-06-21T12:56:08.666689Z"
    }
   },
   "cell_type": "code",
   "source": [
    "correlation = data_df.corr()\n",
    "# sns.heatmap(correlation)\n",
    "filtered_columns = correlation.index[correlation[\"convert\"].abs() >= 0.005]\n",
    "filtered_corr_matrix = correlation.loc[filtered_columns, filtered_columns]\n",
    "\n",
    "plt.figure(figsize=(10, 8))\n",
    "sns.heatmap(filtered_corr_matrix, annot=True, cmap='coolwarm', vmin=-1, vmax=1)"
   ],
   "id": "83e0dbf892342b5f",
   "outputs": [
    {
     "data": {
      "text/plain": [
       "<Axes: >"
      ]
     },
     "execution_count": 22,
     "metadata": {},
     "output_type": "execute_result"
    },
    {
     "data": {
      "text/plain": [
       "<Figure size 1000x800 with 2 Axes>"
      ],
      "image/png": "[encoded data removed]"
     },
     "metadata": {},
     "output_type": "display_data"
    }
   ],
   "execution_count": 22
  },
  {
   "metadata": {},
   "cell_type": "markdown",
   "source": "Here it's possible to see that the correlation for all columns are very, very weak and none of them outstands each other. We can see that only 8 columns has bigger correlation than 0.005, which is really, really low. So the option is to test the models to see how they will perform",
   "id": "8fce79829e8a17c7"
  },
  {
   "metadata": {},
   "cell_type": "markdown",
   "source": [
    "## Discovering the best model\n",
    "First, before trying the models, there is a need to balance the data, because more than 90% of the data is unbalanced"
   ],
   "id": "b2027d06447b6b06"
  },
  {
   "metadata": {
    "ExecuteTime": {
     "end_time": "2024-06-24T13:00:52.958391Z",
     "start_time": "2024-06-24T13:00:52.577907Z"
    }
   },
   "cell_type": "code",
   "source": [
    "df_majority = data_df[data_df.convert == 0]\n",
    "df_minority = data_df[data_df.convert == 1]\n",
    "\n",
    "df_majority_undersampled = df_majority.sample(n=len(df_minority), random_state=42)\n",
    "\n",
    "df_balanced = pd.concat([df_minority, df_majority_undersampled])"
   ],
   "id": "8c6ada565d13117",
   "outputs": [],
   "execution_count": 24
  },
  {
   "metadata": {},
   "cell_type": "markdown",
   "source": "Now, with some models collected from sklearn, It's time to see what is the one with the best accuracy",
   "id": "b00b61049e41b1be"
  },
  {
   "metadata": {
    "ExecuteTime": {
     "end_time": "2024-06-24T13:02:47.268346Z",
     "start_time": "2024-06-24T13:02:42.876594Z"
    }
   },
   "cell_type": "code",
   "source": [
    "X = df_balanced.drop(columns=['convert'])\n",
    "y = df_balanced['convert']\n",
    "X_train, X_test, y_train, y_test = train_test_split(X, y, test_size=0.2, random_state=42)\n",
    "\n",
    "scaler = StandardScaler()\n",
    "X_train = scaler.fit_transform(X_train)\n",
    "X_test = scaler.transform(X_test)\n",
    "\n",
    "models = {\n",
    "    \"Logistic Regression\": LogisticRegression(),\n",
    "    \"Random Forest\": RandomForestClassifier(),\n",
    "    \"Gradient Boosting\": GradientBoostingClassifier(),\n",
    "    \"Support Vector Machine\": SVC(),\n",
    "    \"k-Nearest Neighbors\": KNeighborsClassifier()\n",
    "}\n",
    "\n",
    "best_model = None\n",
    "best_accuracy = 0\n",
    "best_name = 0\n",
    "\n",
    "for name, model in models.items():\n",
    "    model.fit(X_train, y_train)\n",
    "    y_pred = model.predict(X_test)\n",
    "    accuracy = accuracy_score(y_test, y_pred)\n",
    "    print(f\"{name} Accuracy: {accuracy}\")\n",
    "    if accuracy > best_accuracy:\n",
    "        best_accuracy = accuracy\n",
    "        best_model = model\n",
    "        best_name = name\n",
    "\n",
    "print(f\"Best Model: {best_model} with Accuracy: {best_accuracy}\")"
   ],
   "id": "f7c2e67cd9e5b6b8",
   "outputs": [
    {
     "name": "stdout",
     "output_type": "stream",
     "text": [
      "Logistic Regression Accuracy: 0.6465968586387435\n",
      "Random Forest Accuracy: 0.606020942408377\n",
      "Gradient Boosting Accuracy: 0.6269633507853403\n",
      "Support Vector Machine Accuracy: 0.6191099476439791\n",
      "k-Nearest Neighbors Accuracy: 0.5850785340314136\n",
      "Best Model: LogisticRegression() with Accuracy: 0.6465968586387435\n"
     ]
    }
   ],
   "execution_count": 25
  },
  {
   "metadata": {},
   "cell_type": "markdown",
   "source": "## Testing with the whole data to see the result",
   "id": "186114300b4ffcca"
  },
  {
   "metadata": {
    "ExecuteTime": {
     "end_time": "2024-06-24T13:05:31.548586Z",
     "start_time": "2024-06-24T13:05:31.104347Z"
    }
   },
   "cell_type": "code",
   "source": [
    "X_full = data_df.drop(columns=['convert'])\n",
    "y_full = data_df['convert']\n",
    "X_train_full, X_test_full, y_train_full, y_test_full = train_test_split(X_full, y_full, test_size=0.2, random_state=42)"
   ],
   "id": "6c4e04d387cb5d3a",
   "outputs": [],
   "execution_count": 26
  },
  {
   "metadata": {
    "ExecuteTime": {
     "end_time": "2024-06-24T13:07:43.622360Z",
     "start_time": "2024-06-24T13:07:43.572076Z"
    }
   },
   "cell_type": "code",
   "source": [
    "y_pred_full = best_model.predict(X_test_full)\n",
    "accuracy_full = accuracy_score(y_test_full, y_pred_full)\n",
    "print(accuracy_full)"
   ],
   "id": "b763c6d49082f1c6",
   "outputs": [
    {
     "name": "stdout",
     "output_type": "stream",
     "text": [
      "0.52288\n"
     ]
    },
    {
     "name": "stderr",
     "output_type": "stream",
     "text": [
      "/Users/anderson.lima/PycharmProjects/task7/venv/lib/python3.10/site-packages/sklearn/base.py:486: UserWarning: X has feature names, but LogisticRegression was fitted without feature names\n",
      "  warnings.warn(\n"
     ]
    }
   ],
   "execution_count": 28
  },
  {
   "metadata": {},
   "cell_type": "markdown",
   "source": "The conclusion is that the model can get some accuracy when the data is sampled, but when the whole data enters, the model get very confused, and it's dificult to predict.",
   "id": "795686ca4443cc60"
  },
  {
   "metadata": {},
   "cell_type": "markdown",
   "source": "## Saving the model, so it can be used in a python application",
   "id": "af73de40e2fa52a7"
  },
  {
   "metadata": {
    "ExecuteTime": {
     "end_time": "2024-06-24T14:13:48.334711Z",
     "start_time": "2024-06-24T14:13:48.331494Z"
    }
   },
   "cell_type": "code",
   "source": [
    "import pickle\n",
    "with open('model.pkl', 'wb') as handle:\n",
    "    pickle.dump(best_model, handle, protocol=pickle.HIGHEST_PROTOCOL)"
   ],
   "id": "8e9c3cdc1f28752",
   "outputs": [],
   "execution_count": 30
  },
  {
   "metadata": {
    "ExecuteTime": {
     "end_time": "2024-06-24T14:34:17.386264Z",
     "start_time": "2024-06-24T14:34:17.176754Z"
    }
   },
   "cell_type": "code",
   "source": "data_df.drop(\"convert\", axis=1).sample(n=10, random_state=42).to_json(\"test.json\", orient='records')",
   "id": "adc9400d40960a08",
   "outputs": [],
   "execution_count": 33
  },
  {
   "metadata": {},
   "cell_type": "markdown",
   "source": "",
   "id": "6b6ab0af807d5568"
  }
 ],
 "metadata": {
  "kernelspec": {
   "display_name": "Python 3",
   "language": "python",
   "name": "python3"
  },
  "language_info": {
   "codemirror_mode": {
    "name": "ipython",
    "version": 2
   },
   "file_extension": ".py",
   "mimetype": "text/x-python",
   "name": "python",
   "nbconvert_exporter": "python",
   "pygments_lexer": "ipython2",
   "version": "2.7.6"
  }
 },
 "nbformat": 4,
 "nbformat_minor": 5
}
